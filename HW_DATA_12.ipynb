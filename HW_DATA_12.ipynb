{
  "nbformat": 4,
  "nbformat_minor": 0,
  "metadata": {
    "colab": {
      "provenance": [],
      "authorship_tag": "ABX9TyMw6CsRKPxKHH1AqupZhaBX",
      "include_colab_link": true
    },
    "kernelspec": {
      "name": "python3",
      "display_name": "Python 3"
    },
    "language_info": {
      "name": "python"
    }
  },
  "cells": [
    {
      "cell_type": "markdown",
      "metadata": {
        "id": "view-in-github",
        "colab_type": "text"
      },
      "source": [
        "<a href=\"https://colab.research.google.com/github/SerhiiAndreiko/HW_DATA_12/blob/main/HW_DATA_12.ipynb\" target=\"_parent\"><img src=\"https://colab.research.google.com/assets/colab-badge.svg\" alt=\"Open In Colab\"/></a>"
      ]
    },
    {
      "cell_type": "code",
      "source": [
        "pip install googletrans"
      ],
      "metadata": {
        "id": "OmitfELnBcX1"
      },
      "execution_count": null,
      "outputs": []
    },
    {
      "cell_type": "code",
      "source": [
        "!pip install deep-translator\n"
      ],
      "metadata": {
        "colab": {
          "base_uri": "https://localhost:8080/"
        },
        "id": "m3lfq-j1CGis",
        "outputId": "efb86939-a50a-4c58-b40b-d0375fea6856"
      },
      "execution_count": 1,
      "outputs": [
        {
          "output_type": "stream",
          "name": "stdout",
          "text": [
            "Collecting deep-translator\n",
            "  Downloading deep_translator-1.11.4-py3-none-any.whl (42 kB)\n",
            "\u001b[?25l     \u001b[90m━━━━━━━━━━━━━━━━━━━━━━━━━━━━━━━━━━━━━━━━\u001b[0m \u001b[32m0.0/42.3 kB\u001b[0m \u001b[31m?\u001b[0m eta \u001b[36m-:--:--\u001b[0m\r\u001b[2K     \u001b[91m━━━━━━━━━━━━━━━━━━━━━━━━━━━━━━━━━━━━━━\u001b[0m\u001b[91m╸\u001b[0m\u001b[90m━\u001b[0m \u001b[32m41.0/42.3 kB\u001b[0m \u001b[31m1.3 MB/s\u001b[0m eta \u001b[36m0:00:01\u001b[0m\r\u001b[2K     \u001b[90m━━━━━━━━━━━━━━━━━━━━━━━━━━━━━━━━━━━━━━━━\u001b[0m \u001b[32m42.3/42.3 kB\u001b[0m \u001b[31m891.6 kB/s\u001b[0m eta \u001b[36m0:00:00\u001b[0m\n",
            "\u001b[?25hRequirement already satisfied: beautifulsoup4<5.0.0,>=4.9.1 in /usr/local/lib/python3.10/dist-packages (from deep-translator) (4.12.3)\n",
            "Requirement already satisfied: requests<3.0.0,>=2.23.0 in /usr/local/lib/python3.10/dist-packages (from deep-translator) (2.31.0)\n",
            "Requirement already satisfied: soupsieve>1.2 in /usr/local/lib/python3.10/dist-packages (from beautifulsoup4<5.0.0,>=4.9.1->deep-translator) (2.5)\n",
            "Requirement already satisfied: charset-normalizer<4,>=2 in /usr/local/lib/python3.10/dist-packages (from requests<3.0.0,>=2.23.0->deep-translator) (3.3.2)\n",
            "Requirement already satisfied: idna<4,>=2.5 in /usr/local/lib/python3.10/dist-packages (from requests<3.0.0,>=2.23.0->deep-translator) (3.6)\n",
            "Requirement already satisfied: urllib3<3,>=1.21.1 in /usr/local/lib/python3.10/dist-packages (from requests<3.0.0,>=2.23.0->deep-translator) (2.0.7)\n",
            "Requirement already satisfied: certifi>=2017.4.17 in /usr/local/lib/python3.10/dist-packages (from requests<3.0.0,>=2.23.0->deep-translator) (2024.2.2)\n",
            "Installing collected packages: deep-translator\n",
            "Successfully installed deep-translator-1.11.4\n"
          ]
        }
      ]
    },
    {
      "cell_type": "code",
      "execution_count": 30,
      "metadata": {
        "id": "9GhqjHO0I32k"
      },
      "outputs": [],
      "source": [
        "from deep_translator import GoogleTranslator\n",
        "import spacy\n",
        "import nltk\n",
        "from nltk.corpus import stopwords\n",
        "from nltk.tokenize import sent_tokenize, word_tokenize\n",
        "from collections import Counter\n",
        "from googletrans import Translator"
      ]
    },
    {
      "cell_type": "code",
      "source": [
        "nltk.download('punkt')\n",
        "nltk.download('stopwords')"
      ],
      "metadata": {
        "colab": {
          "base_uri": "https://localhost:8080/"
        },
        "id": "fV9nn9WyJXGR",
        "outputId": "c6d0c917-00e8-4435-80ea-4e4b2518086b"
      },
      "execution_count": 31,
      "outputs": [
        {
          "output_type": "stream",
          "name": "stderr",
          "text": [
            "[nltk_data] Downloading package punkt to /root/nltk_data...\n",
            "[nltk_data]   Package punkt is already up-to-date!\n",
            "[nltk_data] Downloading package stopwords to /root/nltk_data...\n",
            "[nltk_data]   Package stopwords is already up-to-date!\n"
          ]
        },
        {
          "output_type": "execute_result",
          "data": {
            "text/plain": [
              "True"
            ]
          },
          "metadata": {},
          "execution_count": 31
        }
      ]
    },
    {
      "cell_type": "code",
      "source": [
        "nlp = spacy.load('en_core_web_sm')\n",
        "text = 'The Orbiter Discovery, OV-103, is considered eligible for listing in the National Register of Historic Places (NRHP) in the context of the U.S. Space Shuttle Program (1969-2011) under Criterion A in the areas of Space Exploration and Transportation and under Criterion C in the area of Engineering. Because it has achieved significance within the past fifty years, Criteria Consideration G applies. Under Criterion A, Discovery is significant as the oldest of the three extant orbiter vehicles constructed for the Space Shuttle Program (SSP), the longest running American space program to date; she was the third of five orbiters built by NASA. Unlike the Mercury, Gemini, and Apollo programs, the SSP’s emphasis was on cost effectiveness and reusability, and eventually the construction of a space station. Including her maiden voyage (launched August 30, 1984), Discovery flew to space thirty-nine times, more than any of the other four orbiters; she was also the first orbiter to fly twenty missions. She had the honor of being chosen as the Return to Flight vehicle after both the Challenger and Columbia accidents. Discovery was the first shuttle to fly with the redesigned SRBs, a result of the Challenger accident, and the first shuttle to fly with the Phase II and Block I SSME. Discovery also carried the Hubble Space Telescope to orbit and performed two of the five servicing missions to the observatory. She flew the first and last dedicated Department of Defense (DoD) missions, as well as the first unclassified defense-related mission. In addition, Discovery was vital to the construction of the International Space Station (ISS); she flew thirteen of the thirty-seven total missions flown to the station by a U.S. Space Shuttle. She was the first orbiter to dock to the ISS, and the first to perform an exchange of a resident crew. Under Criterion C, Discovery is significant as a feat of engineering. According to Wayne Hale, a flight director from Johnson Space Center, the Space Shuttle orbiter represents a “huge technological leap from expendable rockets and capsules to a reusable, winged, hypersonic, cargo-carrying spacecraft.” Although her base structure followed a conventional aircraft design, she used advanced materials that both minimized her weight for cargo-carrying purposes and featured low thermal expansion ratios, which provided a stable base for her Thermal Protection System (TPS) materials. The Space Shuttle orbiter also featured the first reusable TPS; all previous spaceflight vehicles had a single-use, ablative heat shield. Other notable engineering achievements of the orbiter included the first reusable orbital propulsion system, and the first two-fault-tolerant Integrated Avionics System. As Hale stated, the Space Shuttle remains “the largest, fastest, winged hypersonic aircraft in history,” having regularly flown at twenty-five times the speed of sound.'\n"
      ],
      "metadata": {
        "id": "QWs4zZS8Jd9f"
      },
      "execution_count": 32,
      "outputs": []
    },
    {
      "cell_type": "code",
      "source": [
        "sentences = sent_tokenize(text)"
      ],
      "metadata": {
        "id": "nWBrolmiJogO"
      },
      "execution_count": 33,
      "outputs": []
    },
    {
      "cell_type": "code",
      "source": [
        "# Remove stopwords and tokenize\n",
        "stop_words = set(stopwords.words('english'))\n",
        "words = word_tokenize(text)\n",
        "filtered_words = [word for word in words if word.lower() not in stop_words]"
      ],
      "metadata": {
        "id": "65Vjn_KN-0Aq"
      },
      "execution_count": 35,
      "outputs": []
    },
    {
      "cell_type": "code",
      "source": [
        "# Tokenize text using spaCy\n",
        "doc = nlp(text)\n",
        "filtered_tokens = [token.text for token in doc if not token.is_stop]\n"
      ],
      "metadata": {
        "id": "F8TDCi5K_r4M"
      },
      "execution_count": 36,
      "outputs": []
    },
    {
      "cell_type": "code",
      "source": [
        "# # Translate text to Ukrainian\n",
        "# ukrainian_text = GoogleTranslator(source='auto', target='uk').translate(text)\n"
      ],
      "metadata": {
        "id": "giPkVuPSAzlA"
      },
      "execution_count": 37,
      "outputs": []
    },
    {
      "cell_type": "code",
      "source": [
        "# # Tokenize Ukrainian text\n",
        "# ukrainian_doc = nlp(ukrainian_text)\n",
        "# ukrainian_sentences = [sent.text for sent in ukrainian_doc.sents]\n",
        "\n"
      ],
      "metadata": {
        "id": "lZhyI-EWA3aN"
      },
      "execution_count": 38,
      "outputs": []
    },
    {
      "cell_type": "code",
      "source": [
        "# Calculate word frequencies in sentences\n",
        "word_freq = Counter(filtered_tokens)"
      ],
      "metadata": {
        "id": "Km6_4DV---4i"
      },
      "execution_count": 39,
      "outputs": []
    },
    {
      "cell_type": "code",
      "source": [
        "# Calculate sentence scores based on word frequencies\n",
        "sentence_scores = {}\n",
        "for sentence in sentences:\n",
        "    sentence_tokens = word_tokenize(sentence)\n",
        "    for word in sentence_tokens:\n",
        "        if word.lower() in word_freq:\n",
        "            if sentence not in sentence_scores:\n",
        "                sentence_scores[sentence] = word_freq[word.lower()]\n",
        "            else:\n",
        "                sentence_scores[sentence] += word_freq[word.lower()]\n",
        "\n"
      ],
      "metadata": {
        "id": "ZclAO3rgJsoJ"
      },
      "execution_count": 40,
      "outputs": []
    },
    {
      "cell_type": "code",
      "source": [
        "# Sort sentences by their scores\n",
        "sorted_sentences = sorted(sentence_scores.items(), key=lambda x: x[1], reverse=True)\n"
      ],
      "metadata": {
        "id": "4a55sEGPJudR"
      },
      "execution_count": 41,
      "outputs": []
    },
    {
      "cell_type": "code",
      "source": [
        "# Select top 30% of sentences as summary\n",
        "select_length = int(len(sentences) * 0.3)\n",
        "summary = [sentence[0] for sentence in sorted_sentences[:select_length]]"
      ],
      "metadata": {
        "id": "pPjuG_8hJwHM"
      },
      "execution_count": 42,
      "outputs": []
    },
    {
      "cell_type": "code",
      "source": [
        "# Translate summary to Ukrainian\n",
        "ukrainian_summary = [GoogleTranslator(source='auto', target='uk').translate(sentence) for sentence in summary]\n",
        "\n",
        "# Print Ukrainian summary\n",
        "print(\"\\nUkrainian Summary:\")\n",
        "for sentence in ukrainian_summary:\n",
        "    print(sentence)\n"
      ],
      "metadata": {
        "colab": {
          "base_uri": "https://localhost:8080/"
        },
        "id": "dOr-VKXBERS_",
        "outputId": "7cbd779f-9d0c-48c2-abf3-10f8a2f47fb5"
      },
      "execution_count": 46,
      "outputs": [
        {
          "output_type": "stream",
          "name": "stdout",
          "text": [
            "\n",
            "Ukrainian Summary:\n",
            "За словами Вейна Хейла, керівника польотів з Космічного центру Джонсона, орбітальний корабель «Спейс Шаттл» являє собою «величезний технологічний стрибок від одноразових ракет і капсул до крилатого, гіперзвукового, вантажного космічного корабля багаторазового використання». Незважаючи на те, що її базова конструкція відповідала стандартній конструкції літака, вона використовувала передові матеріали, які мінімізували її вагу для цілей перевезення вантажу та мали низький коефіцієнт теплового розширення, що забезпечило стабільну основу для матеріалів її системи теплового захисту (TPS).\n",
            "Як заявив Хейл, космічний шаттл залишається «найбільшим, найшвидшим, крилатим гіперзвуковим літальним апаратом в історії», який регулярно літав зі швидкістю, що у двадцять п’ять разів перевищує швидкість звуку.\n",
            "Враховуючи свій перший рейс (запущений 30 серпня 1984 року), «Діскавері» літав у космос тридцять дев’ять разів, більше ніж будь-який з інших чотирьох орбітальних кораблів; вона також була першим орбітальним апаратом, який здійснив двадцять місій.\n",
            "На відміну від програм Mercury, Gemini та Apollo, наголос SSP був на економічній ефективності та можливості повторного використання, а врешті-решт — на будівництві космічної станції.\n"
          ]
        }
      ]
    },
    {
      "cell_type": "code",
      "source": [
        "\n",
        "# Print summary\n",
        "for sentence in sentences:\n",
        "    if sentence in summary:\n",
        "        print(sentence)"
      ],
      "metadata": {
        "id": "5A2g1EXzJxaz",
        "colab": {
          "base_uri": "https://localhost:8080/"
        },
        "outputId": "160c10c8-c79c-4ee4-ed12-eb7ebbc65bd9"
      },
      "execution_count": 44,
      "outputs": [
        {
          "output_type": "stream",
          "name": "stdout",
          "text": [
            "Unlike the Mercury, Gemini, and Apollo programs, the SSP’s emphasis was on cost effectiveness and reusability, and eventually the construction of a space station.\n",
            "Including her maiden voyage (launched August 30, 1984), Discovery flew to space thirty-nine times, more than any of the other four orbiters; she was also the first orbiter to fly twenty missions.\n",
            "According to Wayne Hale, a flight director from Johnson Space Center, the Space Shuttle orbiter represents a “huge technological leap from expendable rockets and capsules to a reusable, winged, hypersonic, cargo-carrying spacecraft.” Although her base structure followed a conventional aircraft design, she used advanced materials that both minimized her weight for cargo-carrying purposes and featured low thermal expansion ratios, which provided a stable base for her Thermal Protection System (TPS) materials.\n",
            "As Hale stated, the Space Shuttle remains “the largest, fastest, winged hypersonic aircraft in history,” having regularly flown at twenty-five times the speed of sound.\n"
          ]
        }
      ]
    },
    {
      "cell_type": "code",
      "source": [
        "import matplotlib.pyplot as plt\n",
        "\n",
        "# Create list to store indices of important sentences\n",
        "important_indices = [i for i, sentence in enumerate(sentences) if sentence in summary]\n",
        "\n",
        "# Create plot\n",
        "plt.figure(figsize=(10, 6))\n",
        "\n",
        "# Plot all sentences\n",
        "plt.bar(range(len(sentences)), [1] * len(sentences), color='lightgrey', label='Sentences')\n",
        "\n",
        "# Plot important sentences\n",
        "plt.bar(important_indices, [1] * len(important_indices), color='blue', label='Important Sentences')\n",
        "\n",
        "plt.xlabel('Sentence Index')\n",
        "plt.ylabel('Sentences')\n",
        "plt.title('Visualization of Important Sentences')\n",
        "plt.legend()\n",
        "plt.show()\n"
      ],
      "metadata": {
        "colab": {
          "base_uri": "https://localhost:8080/",
          "height": 564
        },
        "id": "0RawAJadMBFP",
        "outputId": "5385b44f-c394-4b78-b7c7-161c433e4c1a"
      },
      "execution_count": 45,
      "outputs": [
        {
          "output_type": "display_data",
          "data": {
            "text/plain": [
              "<Figure size 1000x600 with 1 Axes>"
            ],
            "image/png": "[encoded data removed]"
          },
          "metadata": {}
        }
      ]
    }
  ]
}